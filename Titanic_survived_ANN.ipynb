{
  "nbformat": 4,
  "nbformat_minor": 0,
  "metadata": {
    "colab": {
      "name": "Titanic_survived_ANN.ipynb",
      "provenance": [],
      "collapsed_sections": []
    },
    "kernelspec": {
      "name": "python3",
      "display_name": "Python 3"
    },
    "language_info": {
      "name": "python"
    },
    "accelerator": "GPU"
  },
  "cells": [
    {
      "cell_type": "code",
      "metadata": {
        "id": "uSJwWnWxCHAn"
      },
      "source": [
        "import numpy as np\n",
        "import matplotlib.pyplot as plt\n",
        "import pandas as pd\n"
      ],
      "execution_count": 52,
      "outputs": []
    },
    {
      "cell_type": "code",
      "metadata": {
        "id": "nSpKCOMQC7EO"
      },
      "source": [
        "df=pd.read_csv('/content/drive/MyDrive/Dataset/train_and_test2 (1).csv')"
      ],
      "execution_count": 53,
      "outputs": []
    },
    {
      "cell_type": "code",
      "metadata": {
        "colab": {
          "base_uri": "https://localhost:8080/",
          "height": 224
        },
        "id": "KpuXdirwDYNp",
        "outputId": "749f2322-ee99-4f50-db01-a49089a0a39e"
      },
      "source": [
        "df.head()"
      ],
      "execution_count": 54,
      "outputs": [
        {
          "output_type": "execute_result",
          "data": {
            "text/html": [
              "<div>\n",
              "<style scoped>\n",
              "    .dataframe tbody tr th:only-of-type {\n",
              "        vertical-align: middle;\n",
              "    }\n",
              "\n",
              "    .dataframe tbody tr th {\n",
              "        vertical-align: top;\n",
              "    }\n",
              "\n",
              "    .dataframe thead th {\n",
              "        text-align: right;\n",
              "    }\n",
              "</style>\n",
              "<table border=\"1\" class=\"dataframe\">\n",
              "  <thead>\n",
              "    <tr style=\"text-align: right;\">\n",
              "      <th></th>\n",
              "      <th>Passengerid</th>\n",
              "      <th>Age</th>\n",
              "      <th>Fare</th>\n",
              "      <th>Sex</th>\n",
              "      <th>sibsp</th>\n",
              "      <th>zero</th>\n",
              "      <th>zero.1</th>\n",
              "      <th>zero.2</th>\n",
              "      <th>zero.3</th>\n",
              "      <th>zero.4</th>\n",
              "      <th>zero.5</th>\n",
              "      <th>zero.6</th>\n",
              "      <th>Parch</th>\n",
              "      <th>zero.7</th>\n",
              "      <th>zero.8</th>\n",
              "      <th>zero.9</th>\n",
              "      <th>zero.10</th>\n",
              "      <th>zero.11</th>\n",
              "      <th>zero.12</th>\n",
              "      <th>zero.13</th>\n",
              "      <th>zero.14</th>\n",
              "      <th>Pclass</th>\n",
              "      <th>zero.15</th>\n",
              "      <th>zero.16</th>\n",
              "      <th>Embarked</th>\n",
              "      <th>zero.17</th>\n",
              "      <th>zero.18</th>\n",
              "      <th>2urvived</th>\n",
              "    </tr>\n",
              "  </thead>\n",
              "  <tbody>\n",
              "    <tr>\n",
              "      <th>0</th>\n",
              "      <td>1</td>\n",
              "      <td>22.0</td>\n",
              "      <td>7.2500</td>\n",
              "      <td>0</td>\n",
              "      <td>1</td>\n",
              "      <td>0</td>\n",
              "      <td>0</td>\n",
              "      <td>0</td>\n",
              "      <td>0</td>\n",
              "      <td>0</td>\n",
              "      <td>0</td>\n",
              "      <td>0</td>\n",
              "      <td>0</td>\n",
              "      <td>0</td>\n",
              "      <td>0</td>\n",
              "      <td>0</td>\n",
              "      <td>0</td>\n",
              "      <td>0</td>\n",
              "      <td>0</td>\n",
              "      <td>0</td>\n",
              "      <td>0</td>\n",
              "      <td>3</td>\n",
              "      <td>0</td>\n",
              "      <td>0</td>\n",
              "      <td>2.0</td>\n",
              "      <td>0</td>\n",
              "      <td>0</td>\n",
              "      <td>0</td>\n",
              "    </tr>\n",
              "    <tr>\n",
              "      <th>1</th>\n",
              "      <td>2</td>\n",
              "      <td>38.0</td>\n",
              "      <td>71.2833</td>\n",
              "      <td>1</td>\n",
              "      <td>1</td>\n",
              "      <td>0</td>\n",
              "      <td>0</td>\n",
              "      <td>0</td>\n",
              "      <td>0</td>\n",
              "      <td>0</td>\n",
              "      <td>0</td>\n",
              "      <td>0</td>\n",
              "      <td>0</td>\n",
              "      <td>0</td>\n",
              "      <td>0</td>\n",
              "      <td>0</td>\n",
              "      <td>0</td>\n",
              "      <td>0</td>\n",
              "      <td>0</td>\n",
              "      <td>0</td>\n",
              "      <td>0</td>\n",
              "      <td>1</td>\n",
              "      <td>0</td>\n",
              "      <td>0</td>\n",
              "      <td>0.0</td>\n",
              "      <td>0</td>\n",
              "      <td>0</td>\n",
              "      <td>1</td>\n",
              "    </tr>\n",
              "    <tr>\n",
              "      <th>2</th>\n",
              "      <td>3</td>\n",
              "      <td>26.0</td>\n",
              "      <td>7.9250</td>\n",
              "      <td>1</td>\n",
              "      <td>0</td>\n",
              "      <td>0</td>\n",
              "      <td>0</td>\n",
              "      <td>0</td>\n",
              "      <td>0</td>\n",
              "      <td>0</td>\n",
              "      <td>0</td>\n",
              "      <td>0</td>\n",
              "      <td>0</td>\n",
              "      <td>0</td>\n",
              "      <td>0</td>\n",
              "      <td>0</td>\n",
              "      <td>0</td>\n",
              "      <td>0</td>\n",
              "      <td>0</td>\n",
              "      <td>0</td>\n",
              "      <td>0</td>\n",
              "      <td>3</td>\n",
              "      <td>0</td>\n",
              "      <td>0</td>\n",
              "      <td>2.0</td>\n",
              "      <td>0</td>\n",
              "      <td>0</td>\n",
              "      <td>1</td>\n",
              "    </tr>\n",
              "    <tr>\n",
              "      <th>3</th>\n",
              "      <td>4</td>\n",
              "      <td>35.0</td>\n",
              "      <td>53.1000</td>\n",
              "      <td>1</td>\n",
              "      <td>1</td>\n",
              "      <td>0</td>\n",
              "      <td>0</td>\n",
              "      <td>0</td>\n",
              "      <td>0</td>\n",
              "      <td>0</td>\n",
              "      <td>0</td>\n",
              "      <td>0</td>\n",
              "      <td>0</td>\n",
              "      <td>0</td>\n",
              "      <td>0</td>\n",
              "      <td>0</td>\n",
              "      <td>0</td>\n",
              "      <td>0</td>\n",
              "      <td>0</td>\n",
              "      <td>0</td>\n",
              "      <td>0</td>\n",
              "      <td>1</td>\n",
              "      <td>0</td>\n",
              "      <td>0</td>\n",
              "      <td>2.0</td>\n",
              "      <td>0</td>\n",
              "      <td>0</td>\n",
              "      <td>1</td>\n",
              "    </tr>\n",
              "    <tr>\n",
              "      <th>4</th>\n",
              "      <td>5</td>\n",
              "      <td>35.0</td>\n",
              "      <td>8.0500</td>\n",
              "      <td>0</td>\n",
              "      <td>0</td>\n",
              "      <td>0</td>\n",
              "      <td>0</td>\n",
              "      <td>0</td>\n",
              "      <td>0</td>\n",
              "      <td>0</td>\n",
              "      <td>0</td>\n",
              "      <td>0</td>\n",
              "      <td>0</td>\n",
              "      <td>0</td>\n",
              "      <td>0</td>\n",
              "      <td>0</td>\n",
              "      <td>0</td>\n",
              "      <td>0</td>\n",
              "      <td>0</td>\n",
              "      <td>0</td>\n",
              "      <td>0</td>\n",
              "      <td>3</td>\n",
              "      <td>0</td>\n",
              "      <td>0</td>\n",
              "      <td>2.0</td>\n",
              "      <td>0</td>\n",
              "      <td>0</td>\n",
              "      <td>0</td>\n",
              "    </tr>\n",
              "  </tbody>\n",
              "</table>\n",
              "</div>"
            ],
            "text/plain": [
              "   Passengerid   Age     Fare  Sex  ...  Embarked  zero.17  zero.18  2urvived\n",
              "0            1  22.0   7.2500    0  ...       2.0        0        0         0\n",
              "1            2  38.0  71.2833    1  ...       0.0        0        0         1\n",
              "2            3  26.0   7.9250    1  ...       2.0        0        0         1\n",
              "3            4  35.0  53.1000    1  ...       2.0        0        0         1\n",
              "4            5  35.0   8.0500    0  ...       2.0        0        0         0\n",
              "\n",
              "[5 rows x 28 columns]"
            ]
          },
          "metadata": {
            "tags": []
          },
          "execution_count": 54
        }
      ]
    },
    {
      "cell_type": "code",
      "metadata": {
        "id": "Ydbyc0Z6DhDf"
      },
      "source": [
        "inputs=df"
      ],
      "execution_count": 55,
      "outputs": []
    },
    {
      "cell_type": "code",
      "metadata": {
        "id": "xCT06GvB2uo6"
      },
      "source": [
        "inputs=inputs.drop(['zero','zero.1','zero.2','zero.3','zero.4','zero.5','zero.6','zero.7','zero.8','zero.9','zero.10','zero.11','zero.12','zero.13','zero.14','zero.15','zero.16','zero.17','zero.18','sibsp','Parch','Embarked','2urvived'],axis=1)"
      ],
      "execution_count": 56,
      "outputs": []
    },
    {
      "cell_type": "code",
      "metadata": {
        "colab": {
          "base_uri": "https://localhost:8080/",
          "height": 204
        },
        "id": "CAR9PZBv4c82",
        "outputId": "a6be167a-f823-4cd0-8bd5-b80aac4dcc1d"
      },
      "source": [
        "inputs.head()"
      ],
      "execution_count": 57,
      "outputs": [
        {
          "output_type": "execute_result",
          "data": {
            "text/html": [
              "<div>\n",
              "<style scoped>\n",
              "    .dataframe tbody tr th:only-of-type {\n",
              "        vertical-align: middle;\n",
              "    }\n",
              "\n",
              "    .dataframe tbody tr th {\n",
              "        vertical-align: top;\n",
              "    }\n",
              "\n",
              "    .dataframe thead th {\n",
              "        text-align: right;\n",
              "    }\n",
              "</style>\n",
              "<table border=\"1\" class=\"dataframe\">\n",
              "  <thead>\n",
              "    <tr style=\"text-align: right;\">\n",
              "      <th></th>\n",
              "      <th>Passengerid</th>\n",
              "      <th>Age</th>\n",
              "      <th>Fare</th>\n",
              "      <th>Sex</th>\n",
              "      <th>Pclass</th>\n",
              "    </tr>\n",
              "  </thead>\n",
              "  <tbody>\n",
              "    <tr>\n",
              "      <th>0</th>\n",
              "      <td>1</td>\n",
              "      <td>22.0</td>\n",
              "      <td>7.2500</td>\n",
              "      <td>0</td>\n",
              "      <td>3</td>\n",
              "    </tr>\n",
              "    <tr>\n",
              "      <th>1</th>\n",
              "      <td>2</td>\n",
              "      <td>38.0</td>\n",
              "      <td>71.2833</td>\n",
              "      <td>1</td>\n",
              "      <td>1</td>\n",
              "    </tr>\n",
              "    <tr>\n",
              "      <th>2</th>\n",
              "      <td>3</td>\n",
              "      <td>26.0</td>\n",
              "      <td>7.9250</td>\n",
              "      <td>1</td>\n",
              "      <td>3</td>\n",
              "    </tr>\n",
              "    <tr>\n",
              "      <th>3</th>\n",
              "      <td>4</td>\n",
              "      <td>35.0</td>\n",
              "      <td>53.1000</td>\n",
              "      <td>1</td>\n",
              "      <td>1</td>\n",
              "    </tr>\n",
              "    <tr>\n",
              "      <th>4</th>\n",
              "      <td>5</td>\n",
              "      <td>35.0</td>\n",
              "      <td>8.0500</td>\n",
              "      <td>0</td>\n",
              "      <td>3</td>\n",
              "    </tr>\n",
              "  </tbody>\n",
              "</table>\n",
              "</div>"
            ],
            "text/plain": [
              "   Passengerid   Age     Fare  Sex  Pclass\n",
              "0            1  22.0   7.2500    0       3\n",
              "1            2  38.0  71.2833    1       1\n",
              "2            3  26.0   7.9250    1       3\n",
              "3            4  35.0  53.1000    1       1\n",
              "4            5  35.0   8.0500    0       3"
            ]
          },
          "metadata": {
            "tags": []
          },
          "execution_count": 57
        }
      ]
    },
    {
      "cell_type": "code",
      "metadata": {
        "id": "-fHvqjh2gqgH"
      },
      "source": [
        "from sklearn.preprocessing import LabelEncoder\n",
        "le_Sex = LabelEncoder()\n",
        "inputs['Sex_n'] = le_Sex.fit_transform(inputs['Sex'])"
      ],
      "execution_count": 58,
      "outputs": []
    },
    {
      "cell_type": "code",
      "metadata": {
        "id": "qos80Xpv5JlZ"
      },
      "source": [
        "target=df['2urvived']"
      ],
      "execution_count": 59,
      "outputs": []
    },
    {
      "cell_type": "code",
      "metadata": {
        "colab": {
          "base_uri": "https://localhost:8080/"
        },
        "id": "jFKJetCr5O4G",
        "outputId": "1694898b-f067-48b5-f84a-31746ec586c8"
      },
      "source": [
        "inputs.isna().sum()"
      ],
      "execution_count": 60,
      "outputs": [
        {
          "output_type": "execute_result",
          "data": {
            "text/plain": [
              "Passengerid    0\n",
              "Age            0\n",
              "Fare           0\n",
              "Sex            0\n",
              "Pclass         0\n",
              "Sex_n          0\n",
              "dtype: int64"
            ]
          },
          "metadata": {
            "tags": []
          },
          "execution_count": 60
        }
      ]
    },
    {
      "cell_type": "code",
      "metadata": {
        "id": "ZU-5cuieNzbW"
      },
      "source": [
        "inputs=np.array(inputs)\n",
        "target=np.array(target)"
      ],
      "execution_count": 61,
      "outputs": []
    },
    {
      "cell_type": "code",
      "metadata": {
        "colab": {
          "base_uri": "https://localhost:8080/"
        },
        "id": "mqR90qJSOHMy",
        "outputId": "28e3bf0c-cae5-4daa-887d-2a4f1140b81a"
      },
      "source": [
        "print(type(inputs))"
      ],
      "execution_count": 62,
      "outputs": [
        {
          "output_type": "stream",
          "text": [
            "<class 'numpy.ndarray'>\n"
          ],
          "name": "stdout"
        }
      ]
    },
    {
      "cell_type": "code",
      "metadata": {
        "id": "V_0yZdsb5Y1N"
      },
      "source": [
        "from sklearn.model_selection import train_test_split\n",
        "X_train,X_test,y_train,y_test=train_test_split(inputs,target,test_size=0.2,random_state=0)"
      ],
      "execution_count": 63,
      "outputs": []
    },
    {
      "cell_type": "code",
      "metadata": {
        "colab": {
          "base_uri": "https://localhost:8080/"
        },
        "id": "eYOw_tcl5s-l",
        "outputId": "bbf951e0-6553-439d-df12-4f0a9697e1eb"
      },
      "source": [
        "print(type(X_train))\n",
        "print(type(X_test))\n",
        "print(type(y_train))\n",
        "print(type(y_test))\n",
        "\n"
      ],
      "execution_count": 64,
      "outputs": [
        {
          "output_type": "stream",
          "text": [
            "<class 'numpy.ndarray'>\n",
            "<class 'numpy.ndarray'>\n",
            "<class 'numpy.ndarray'>\n",
            "<class 'numpy.ndarray'>\n"
          ],
          "name": "stdout"
        }
      ]
    },
    {
      "cell_type": "code",
      "metadata": {
        "colab": {
          "base_uri": "https://localhost:8080/"
        },
        "id": "_4O6dTabaMu0",
        "outputId": "759a4051-b5a6-4004-dd73-54384943a3f7"
      },
      "source": [
        "print(type(X_train))\n",
        "print(type(X_test))\n",
        "print(type(y_train))\n",
        "print(type(y_test))\n",
        "\n"
      ],
      "execution_count": 65,
      "outputs": [
        {
          "output_type": "stream",
          "text": [
            "<class 'numpy.ndarray'>\n",
            "<class 'numpy.ndarray'>\n",
            "<class 'numpy.ndarray'>\n",
            "<class 'numpy.ndarray'>\n"
          ],
          "name": "stdout"
        }
      ]
    },
    {
      "cell_type": "code",
      "metadata": {
        "id": "fo2SSVzaGVoX"
      },
      "source": [
        "import tensorflow.keras as keras\n",
        "from keras.models import Sequential\n",
        "from keras.layers import Dense\n",
        "from keras.layers import LeakyReLU,ReLU\n",
        "from keras.layers import Dropout\n"
      ],
      "execution_count": 66,
      "outputs": []
    },
    {
      "cell_type": "code",
      "metadata": {
        "id": "iASoPq0LW3RT"
      },
      "source": [
        "classifier = Sequential()"
      ],
      "execution_count": 67,
      "outputs": []
    },
    {
      "cell_type": "code",
      "metadata": {
        "id": "5bDPWN96X6HV"
      },
      "source": [
        "#making our input layer and first hidden layer\n",
        "\n",
        "classifier.add(Dense(units = 6, kernel_initializer= 'he_uniform',activation='relu',input_dim =6))"
      ],
      "execution_count": 68,
      "outputs": []
    },
    {
      "cell_type": "markdown",
      "metadata": {
        "id": "4XCJKMNkYC4Q"
      },
      "source": [
        ""
      ]
    },
    {
      "cell_type": "code",
      "metadata": {
        "id": "uCZLWZSxYBWs"
      },
      "source": [
        "#making our second hiddden layer\n",
        "\n",
        "classifier.add(Dense(units = 6, kernel_initializer= 'he_uniform',activation='relu'))"
      ],
      "execution_count": 69,
      "outputs": []
    },
    {
      "cell_type": "code",
      "metadata": {
        "id": "WwgrFZAyYRTy"
      },
      "source": [
        "#making our output layer\n",
        "\n",
        "classifier.add(Dense(units = 1, kernel_initializer= 'glorot_uniform',activation='sigmoid'))\n"
      ],
      "execution_count": 70,
      "outputs": []
    },
    {
      "cell_type": "code",
      "metadata": {
        "id": "AuXaZ1u9YfmM"
      },
      "source": [
        "#compiling ANN\n",
        "classifier.compile(optimizer = 'Adamax', loss = 'binary_crossentropy', metrics = ['accuracy'])"
      ],
      "execution_count": 71,
      "outputs": []
    },
    {
      "cell_type": "code",
      "metadata": {
        "colab": {
          "base_uri": "https://localhost:8080/"
        },
        "id": "KcOc-FhRYij8",
        "outputId": "c1b64d3e-8772-4669-d055-04395b292477"
      },
      "source": [
        "#Fitting the ANN in to the training data\n",
        "model_history=classifier.fit(X_train, y_train,validation_split=0.33, batch_size = 10, epochs = 100)"
      ],
      "execution_count": 72,
      "outputs": [
        {
          "output_type": "stream",
          "text": [
            "Epoch 1/100\n",
            "71/71 [==============================] - 1s 6ms/step - loss: 101.6708 - accuracy: 0.2464 - val_loss: 5.9698 - val_accuracy: 0.4884\n",
            "Epoch 2/100\n",
            "71/71 [==============================] - 0s 3ms/step - loss: 4.2817 - accuracy: 0.7399 - val_loss: 4.3560 - val_accuracy: 0.6821\n",
            "Epoch 3/100\n",
            "71/71 [==============================] - 0s 3ms/step - loss: 3.4440 - accuracy: 0.7442 - val_loss: 4.2628 - val_accuracy: 0.6821\n",
            "Epoch 4/100\n",
            "71/71 [==============================] - 0s 3ms/step - loss: 3.3825 - accuracy: 0.7597 - val_loss: 4.1527 - val_accuracy: 0.6763\n",
            "Epoch 5/100\n",
            "71/71 [==============================] - 0s 3ms/step - loss: 2.7734 - accuracy: 0.7652 - val_loss: 4.0761 - val_accuracy: 0.6821\n",
            "Epoch 6/100\n",
            "71/71 [==============================] - 0s 3ms/step - loss: 3.7185 - accuracy: 0.7585 - val_loss: 3.9691 - val_accuracy: 0.6821\n",
            "Epoch 7/100\n",
            "71/71 [==============================] - 0s 3ms/step - loss: 3.1091 - accuracy: 0.7327 - val_loss: 3.8619 - val_accuracy: 0.6821\n",
            "Epoch 8/100\n",
            "71/71 [==============================] - 0s 3ms/step - loss: 3.2836 - accuracy: 0.7330 - val_loss: 3.8077 - val_accuracy: 0.6965\n",
            "Epoch 9/100\n",
            "71/71 [==============================] - 0s 3ms/step - loss: 2.1352 - accuracy: 0.7799 - val_loss: 3.6492 - val_accuracy: 0.6705\n",
            "Epoch 10/100\n",
            "71/71 [==============================] - 0s 4ms/step - loss: 2.8376 - accuracy: 0.7531 - val_loss: 3.5732 - val_accuracy: 0.6879\n",
            "Epoch 11/100\n",
            "71/71 [==============================] - 0s 3ms/step - loss: 2.6691 - accuracy: 0.7791 - val_loss: 3.4828 - val_accuracy: 0.6965\n",
            "Epoch 12/100\n",
            "71/71 [==============================] - 0s 3ms/step - loss: 3.2033 - accuracy: 0.7566 - val_loss: 3.3557 - val_accuracy: 0.6965\n",
            "Epoch 13/100\n",
            "71/71 [==============================] - 0s 3ms/step - loss: 2.6619 - accuracy: 0.7486 - val_loss: 3.2932 - val_accuracy: 0.7052\n",
            "Epoch 14/100\n",
            "71/71 [==============================] - 0s 3ms/step - loss: 2.7569 - accuracy: 0.7468 - val_loss: 3.1454 - val_accuracy: 0.6965\n",
            "Epoch 15/100\n",
            "71/71 [==============================] - 0s 3ms/step - loss: 2.1845 - accuracy: 0.7514 - val_loss: 3.0114 - val_accuracy: 0.6965\n",
            "Epoch 16/100\n",
            "71/71 [==============================] - 0s 3ms/step - loss: 2.0105 - accuracy: 0.7871 - val_loss: 2.9321 - val_accuracy: 0.6965\n",
            "Epoch 17/100\n",
            "71/71 [==============================] - 0s 3ms/step - loss: 2.3610 - accuracy: 0.7643 - val_loss: 2.7483 - val_accuracy: 0.6763\n",
            "Epoch 18/100\n",
            "71/71 [==============================] - 0s 3ms/step - loss: 2.1429 - accuracy: 0.7617 - val_loss: 2.6958 - val_accuracy: 0.6416\n",
            "Epoch 19/100\n",
            "71/71 [==============================] - 0s 3ms/step - loss: 2.2052 - accuracy: 0.7637 - val_loss: 2.5593 - val_accuracy: 0.6908\n",
            "Epoch 20/100\n",
            "71/71 [==============================] - 0s 3ms/step - loss: 2.1820 - accuracy: 0.7510 - val_loss: 2.4412 - val_accuracy: 0.6850\n",
            "Epoch 21/100\n",
            "71/71 [==============================] - 0s 3ms/step - loss: 1.7180 - accuracy: 0.7435 - val_loss: 2.3649 - val_accuracy: 0.6936\n",
            "Epoch 22/100\n",
            "71/71 [==============================] - 0s 3ms/step - loss: 1.9506 - accuracy: 0.7583 - val_loss: 2.2378 - val_accuracy: 0.6821\n",
            "Epoch 23/100\n",
            "71/71 [==============================] - 0s 3ms/step - loss: 1.8022 - accuracy: 0.7474 - val_loss: 2.1603 - val_accuracy: 0.6936\n",
            "Epoch 24/100\n",
            "71/71 [==============================] - 0s 3ms/step - loss: 1.8994 - accuracy: 0.7450 - val_loss: 2.0493 - val_accuracy: 0.6792\n",
            "Epoch 25/100\n",
            "71/71 [==============================] - 0s 3ms/step - loss: 1.6106 - accuracy: 0.7195 - val_loss: 1.9604 - val_accuracy: 0.6821\n",
            "Epoch 26/100\n",
            "71/71 [==============================] - 0s 3ms/step - loss: 1.6568 - accuracy: 0.7372 - val_loss: 1.9846 - val_accuracy: 0.7052\n",
            "Epoch 27/100\n",
            "71/71 [==============================] - 0s 3ms/step - loss: 1.3675 - accuracy: 0.7614 - val_loss: 1.7769 - val_accuracy: 0.6850\n",
            "Epoch 28/100\n",
            "71/71 [==============================] - 0s 3ms/step - loss: 1.6311 - accuracy: 0.7428 - val_loss: 1.6940 - val_accuracy: 0.6965\n",
            "Epoch 29/100\n",
            "71/71 [==============================] - 0s 3ms/step - loss: 1.4229 - accuracy: 0.7394 - val_loss: 1.5983 - val_accuracy: 0.6965\n",
            "Epoch 30/100\n",
            "71/71 [==============================] - 0s 3ms/step - loss: 1.3442 - accuracy: 0.7410 - val_loss: 1.7577 - val_accuracy: 0.7197\n",
            "Epoch 31/100\n",
            "71/71 [==============================] - 0s 3ms/step - loss: 1.6008 - accuracy: 0.7582 - val_loss: 1.4364 - val_accuracy: 0.6908\n",
            "Epoch 32/100\n",
            "71/71 [==============================] - 0s 3ms/step - loss: 1.3815 - accuracy: 0.7373 - val_loss: 1.3590 - val_accuracy: 0.6879\n",
            "Epoch 33/100\n",
            "71/71 [==============================] - 0s 3ms/step - loss: 1.1395 - accuracy: 0.7411 - val_loss: 1.3847 - val_accuracy: 0.7197\n",
            "Epoch 34/100\n",
            "71/71 [==============================] - 0s 3ms/step - loss: 1.0385 - accuracy: 0.7799 - val_loss: 1.2440 - val_accuracy: 0.6908\n",
            "Epoch 35/100\n",
            "71/71 [==============================] - 0s 3ms/step - loss: 1.0919 - accuracy: 0.7400 - val_loss: 1.2307 - val_accuracy: 0.7312\n",
            "Epoch 36/100\n",
            "71/71 [==============================] - 0s 3ms/step - loss: 1.0817 - accuracy: 0.7543 - val_loss: 1.1452 - val_accuracy: 0.7081\n",
            "Epoch 37/100\n",
            "71/71 [==============================] - 0s 3ms/step - loss: 0.8996 - accuracy: 0.7476 - val_loss: 1.1098 - val_accuracy: 0.7110\n",
            "Epoch 38/100\n",
            "71/71 [==============================] - 0s 3ms/step - loss: 1.0172 - accuracy: 0.7215 - val_loss: 1.0692 - val_accuracy: 0.7081\n",
            "Epoch 39/100\n",
            "71/71 [==============================] - 0s 3ms/step - loss: 1.0509 - accuracy: 0.7665 - val_loss: 1.0417 - val_accuracy: 0.6936\n",
            "Epoch 40/100\n",
            "71/71 [==============================] - 0s 3ms/step - loss: 0.8918 - accuracy: 0.7438 - val_loss: 1.0310 - val_accuracy: 0.7254\n",
            "Epoch 41/100\n",
            "71/71 [==============================] - 0s 3ms/step - loss: 0.9417 - accuracy: 0.7736 - val_loss: 0.9755 - val_accuracy: 0.7110\n",
            "Epoch 42/100\n",
            "71/71 [==============================] - 0s 3ms/step - loss: 1.0716 - accuracy: 0.7495 - val_loss: 0.9548 - val_accuracy: 0.7312\n",
            "Epoch 43/100\n",
            "71/71 [==============================] - 0s 3ms/step - loss: 1.1845 - accuracy: 0.7254 - val_loss: 0.9322 - val_accuracy: 0.7283\n",
            "Epoch 44/100\n",
            "71/71 [==============================] - 0s 3ms/step - loss: 0.7936 - accuracy: 0.7700 - val_loss: 0.9008 - val_accuracy: 0.7312\n",
            "Epoch 45/100\n",
            "71/71 [==============================] - 0s 3ms/step - loss: 0.8861 - accuracy: 0.7258 - val_loss: 0.8953 - val_accuracy: 0.6994\n",
            "Epoch 46/100\n",
            "71/71 [==============================] - 0s 3ms/step - loss: 0.8820 - accuracy: 0.7410 - val_loss: 0.8884 - val_accuracy: 0.7370\n",
            "Epoch 47/100\n",
            "71/71 [==============================] - 0s 3ms/step - loss: 0.8139 - accuracy: 0.7524 - val_loss: 0.8790 - val_accuracy: 0.7370\n",
            "Epoch 48/100\n",
            "71/71 [==============================] - 0s 3ms/step - loss: 0.9230 - accuracy: 0.7306 - val_loss: 0.8460 - val_accuracy: 0.7110\n",
            "Epoch 49/100\n",
            "71/71 [==============================] - 0s 3ms/step - loss: 0.9093 - accuracy: 0.7602 - val_loss: 0.8378 - val_accuracy: 0.7341\n",
            "Epoch 50/100\n",
            "71/71 [==============================] - 0s 3ms/step - loss: 0.7465 - accuracy: 0.7880 - val_loss: 0.8447 - val_accuracy: 0.6965\n",
            "Epoch 51/100\n",
            "71/71 [==============================] - 0s 3ms/step - loss: 0.7191 - accuracy: 0.7706 - val_loss: 0.8257 - val_accuracy: 0.7370\n",
            "Epoch 52/100\n",
            "71/71 [==============================] - 0s 3ms/step - loss: 0.7792 - accuracy: 0.7568 - val_loss: 0.8020 - val_accuracy: 0.7428\n",
            "Epoch 53/100\n",
            "71/71 [==============================] - 0s 3ms/step - loss: 0.8470 - accuracy: 0.7682 - val_loss: 0.7996 - val_accuracy: 0.7341\n",
            "Epoch 54/100\n",
            "71/71 [==============================] - 0s 3ms/step - loss: 0.7251 - accuracy: 0.7704 - val_loss: 0.7633 - val_accuracy: 0.7370\n",
            "Epoch 55/100\n",
            "71/71 [==============================] - 0s 3ms/step - loss: 0.6935 - accuracy: 0.7872 - val_loss: 0.7790 - val_accuracy: 0.6994\n",
            "Epoch 56/100\n",
            "71/71 [==============================] - 0s 3ms/step - loss: 0.7457 - accuracy: 0.7415 - val_loss: 0.7574 - val_accuracy: 0.7428\n",
            "Epoch 57/100\n",
            "71/71 [==============================] - 0s 3ms/step - loss: 0.6171 - accuracy: 0.7881 - val_loss: 0.7434 - val_accuracy: 0.7399\n",
            "Epoch 58/100\n",
            "71/71 [==============================] - 0s 3ms/step - loss: 0.6999 - accuracy: 0.7707 - val_loss: 0.7375 - val_accuracy: 0.7486\n",
            "Epoch 59/100\n",
            "71/71 [==============================] - 0s 3ms/step - loss: 0.7827 - accuracy: 0.7514 - val_loss: 0.7257 - val_accuracy: 0.7486\n",
            "Epoch 60/100\n",
            "71/71 [==============================] - 0s 3ms/step - loss: 0.7119 - accuracy: 0.7598 - val_loss: 0.6886 - val_accuracy: 0.7370\n",
            "Epoch 61/100\n",
            "71/71 [==============================] - 0s 3ms/step - loss: 0.6354 - accuracy: 0.7623 - val_loss: 0.7017 - val_accuracy: 0.7428\n",
            "Epoch 62/100\n",
            "71/71 [==============================] - 0s 3ms/step - loss: 0.6082 - accuracy: 0.7988 - val_loss: 0.6688 - val_accuracy: 0.7486\n",
            "Epoch 63/100\n",
            "71/71 [==============================] - 0s 3ms/step - loss: 0.6908 - accuracy: 0.7670 - val_loss: 0.6589 - val_accuracy: 0.7486\n",
            "Epoch 64/100\n",
            "71/71 [==============================] - 0s 3ms/step - loss: 0.5852 - accuracy: 0.7812 - val_loss: 0.6608 - val_accuracy: 0.7457\n",
            "Epoch 65/100\n",
            "71/71 [==============================] - 0s 3ms/step - loss: 0.6442 - accuracy: 0.7566 - val_loss: 0.6658 - val_accuracy: 0.7370\n",
            "Epoch 66/100\n",
            "71/71 [==============================] - 0s 3ms/step - loss: 0.6576 - accuracy: 0.7741 - val_loss: 0.6242 - val_accuracy: 0.7514\n",
            "Epoch 67/100\n",
            "71/71 [==============================] - 0s 3ms/step - loss: 0.6097 - accuracy: 0.7647 - val_loss: 0.6063 - val_accuracy: 0.7514\n",
            "Epoch 68/100\n",
            "71/71 [==============================] - 0s 3ms/step - loss: 0.5452 - accuracy: 0.7920 - val_loss: 0.6275 - val_accuracy: 0.7312\n",
            "Epoch 69/100\n",
            "71/71 [==============================] - 0s 3ms/step - loss: 0.5397 - accuracy: 0.7885 - val_loss: 0.6178 - val_accuracy: 0.7312\n",
            "Epoch 70/100\n",
            "71/71 [==============================] - 0s 3ms/step - loss: 0.4950 - accuracy: 0.7477 - val_loss: 0.5608 - val_accuracy: 0.7370\n",
            "Epoch 71/100\n",
            "71/71 [==============================] - 0s 3ms/step - loss: 0.5828 - accuracy: 0.7696 - val_loss: 0.5577 - val_accuracy: 0.7370\n",
            "Epoch 72/100\n",
            "71/71 [==============================] - 0s 3ms/step - loss: 0.5654 - accuracy: 0.7888 - val_loss: 0.5150 - val_accuracy: 0.7486\n",
            "Epoch 73/100\n",
            "71/71 [==============================] - 0s 3ms/step - loss: 0.4917 - accuracy: 0.7742 - val_loss: 0.5100 - val_accuracy: 0.7486\n",
            "Epoch 74/100\n",
            "71/71 [==============================] - 0s 3ms/step - loss: 0.4961 - accuracy: 0.7712 - val_loss: 0.4924 - val_accuracy: 0.7457\n",
            "Epoch 75/100\n",
            "71/71 [==============================] - 0s 3ms/step - loss: 0.6003 - accuracy: 0.7622 - val_loss: 0.5709 - val_accuracy: 0.7370\n",
            "Epoch 76/100\n",
            "71/71 [==============================] - 0s 4ms/step - loss: 0.5225 - accuracy: 0.7777 - val_loss: 0.5138 - val_accuracy: 0.7601\n",
            "Epoch 77/100\n",
            "71/71 [==============================] - 0s 3ms/step - loss: 0.5699 - accuracy: 0.7629 - val_loss: 0.5949 - val_accuracy: 0.7283\n",
            "Epoch 78/100\n",
            "71/71 [==============================] - 0s 3ms/step - loss: 0.5617 - accuracy: 0.7720 - val_loss: 0.4908 - val_accuracy: 0.7486\n",
            "Epoch 79/100\n",
            "71/71 [==============================] - 0s 3ms/step - loss: 0.4568 - accuracy: 0.7956 - val_loss: 0.4799 - val_accuracy: 0.7572\n",
            "Epoch 80/100\n",
            "71/71 [==============================] - 0s 3ms/step - loss: 0.4741 - accuracy: 0.7888 - val_loss: 0.5205 - val_accuracy: 0.7428\n",
            "Epoch 81/100\n",
            "71/71 [==============================] - 0s 3ms/step - loss: 0.4756 - accuracy: 0.7837 - val_loss: 0.5630 - val_accuracy: 0.7341\n",
            "Epoch 82/100\n",
            "71/71 [==============================] - 0s 3ms/step - loss: 0.4561 - accuracy: 0.7781 - val_loss: 0.5234 - val_accuracy: 0.7428\n",
            "Epoch 83/100\n",
            "71/71 [==============================] - 0s 3ms/step - loss: 0.4828 - accuracy: 0.7878 - val_loss: 0.5123 - val_accuracy: 0.7457\n",
            "Epoch 84/100\n",
            "71/71 [==============================] - 0s 3ms/step - loss: 0.5195 - accuracy: 0.7476 - val_loss: 0.5012 - val_accuracy: 0.7457\n",
            "Epoch 85/100\n",
            "71/71 [==============================] - 0s 3ms/step - loss: 0.5037 - accuracy: 0.7502 - val_loss: 0.4795 - val_accuracy: 0.7572\n",
            "Epoch 86/100\n",
            "71/71 [==============================] - 0s 3ms/step - loss: 0.4977 - accuracy: 0.7929 - val_loss: 0.4864 - val_accuracy: 0.7486\n",
            "Epoch 87/100\n",
            "71/71 [==============================] - 0s 3ms/step - loss: 0.4557 - accuracy: 0.7975 - val_loss: 0.4774 - val_accuracy: 0.7688\n",
            "Epoch 88/100\n",
            "71/71 [==============================] - 0s 3ms/step - loss: 0.4771 - accuracy: 0.7776 - val_loss: 0.4958 - val_accuracy: 0.7572\n",
            "Epoch 89/100\n",
            "71/71 [==============================] - 0s 3ms/step - loss: 0.5245 - accuracy: 0.7813 - val_loss: 0.5564 - val_accuracy: 0.7514\n",
            "Epoch 90/100\n",
            "71/71 [==============================] - 0s 4ms/step - loss: 0.4055 - accuracy: 0.8200 - val_loss: 0.4949 - val_accuracy: 0.7543\n",
            "Epoch 91/100\n",
            "71/71 [==============================] - 0s 3ms/step - loss: 0.4573 - accuracy: 0.7817 - val_loss: 0.4873 - val_accuracy: 0.7630\n",
            "Epoch 92/100\n",
            "71/71 [==============================] - 0s 3ms/step - loss: 0.4423 - accuracy: 0.7867 - val_loss: 0.4971 - val_accuracy: 0.7572\n",
            "Epoch 93/100\n",
            "71/71 [==============================] - 0s 3ms/step - loss: 0.4169 - accuracy: 0.7870 - val_loss: 0.4991 - val_accuracy: 0.7543\n",
            "Epoch 94/100\n",
            "71/71 [==============================] - 0s 3ms/step - loss: 0.5306 - accuracy: 0.7601 - val_loss: 0.5077 - val_accuracy: 0.7514\n",
            "Epoch 95/100\n",
            "71/71 [==============================] - 0s 3ms/step - loss: 0.4147 - accuracy: 0.8001 - val_loss: 0.4754 - val_accuracy: 0.7688\n",
            "Epoch 96/100\n",
            "71/71 [==============================] - 0s 3ms/step - loss: 0.4606 - accuracy: 0.7771 - val_loss: 0.5924 - val_accuracy: 0.7283\n",
            "Epoch 97/100\n",
            "71/71 [==============================] - 0s 3ms/step - loss: 0.5410 - accuracy: 0.7797 - val_loss: 0.4783 - val_accuracy: 0.7572\n",
            "Epoch 98/100\n",
            "71/71 [==============================] - 0s 3ms/step - loss: 0.5019 - accuracy: 0.7812 - val_loss: 0.5865 - val_accuracy: 0.7341\n",
            "Epoch 99/100\n",
            "71/71 [==============================] - 0s 3ms/step - loss: 0.4475 - accuracy: 0.8078 - val_loss: 0.4863 - val_accuracy: 0.7832\n",
            "Epoch 100/100\n",
            "71/71 [==============================] - 0s 3ms/step - loss: 0.5639 - accuracy: 0.7785 - val_loss: 0.4736 - val_accuracy: 0.7630\n"
          ],
          "name": "stdout"
        }
      ]
    },
    {
      "cell_type": "code",
      "metadata": {
        "id": "a2GPyntdIiZL"
      },
      "source": [
        "y_pred=classifier.predict(X_test)"
      ],
      "execution_count": 73,
      "outputs": []
    },
    {
      "cell_type": "code",
      "metadata": {
        "colab": {
          "base_uri": "https://localhost:8080/"
        },
        "id": "V4p1rquGPxJE",
        "outputId": "4d16636b-6d01-41ea-d679-f26c246ed447"
      },
      "source": [
        "y_pred=(y_pred>0.5)\n",
        "y_pred"
      ],
      "execution_count": 74,
      "outputs": [
        {
          "output_type": "execute_result",
          "data": {
            "text/plain": [
              "array([[False],\n",
              "       [False],\n",
              "       [False],\n",
              "       [False],\n",
              "       [ True],\n",
              "       [False],\n",
              "       [False],\n",
              "       [False],\n",
              "       [ True],\n",
              "       [False],\n",
              "       [False],\n",
              "       [False],\n",
              "       [ True],\n",
              "       [False],\n",
              "       [ True],\n",
              "       [ True],\n",
              "       [ True],\n",
              "       [ True],\n",
              "       [ True],\n",
              "       [False],\n",
              "       [False],\n",
              "       [ True],\n",
              "       [False],\n",
              "       [False],\n",
              "       [False],\n",
              "       [ True],\n",
              "       [False],\n",
              "       [False],\n",
              "       [ True],\n",
              "       [False],\n",
              "       [False],\n",
              "       [ True],\n",
              "       [False],\n",
              "       [ True],\n",
              "       [ True],\n",
              "       [False],\n",
              "       [False],\n",
              "       [False],\n",
              "       [False],\n",
              "       [False],\n",
              "       [False],\n",
              "       [False],\n",
              "       [ True],\n",
              "       [False],\n",
              "       [False],\n",
              "       [False],\n",
              "       [ True],\n",
              "       [ True],\n",
              "       [False],\n",
              "       [False],\n",
              "       [False],\n",
              "       [False],\n",
              "       [False],\n",
              "       [False],\n",
              "       [ True],\n",
              "       [False],\n",
              "       [ True],\n",
              "       [False],\n",
              "       [False],\n",
              "       [False],\n",
              "       [False],\n",
              "       [ True],\n",
              "       [False],\n",
              "       [False],\n",
              "       [False],\n",
              "       [ True],\n",
              "       [False],\n",
              "       [False],\n",
              "       [False],\n",
              "       [False],\n",
              "       [False],\n",
              "       [False],\n",
              "       [False],\n",
              "       [False],\n",
              "       [False],\n",
              "       [False],\n",
              "       [False],\n",
              "       [ True],\n",
              "       [False],\n",
              "       [False],\n",
              "       [ True],\n",
              "       [False],\n",
              "       [False],\n",
              "       [False],\n",
              "       [False],\n",
              "       [False],\n",
              "       [False],\n",
              "       [False],\n",
              "       [False],\n",
              "       [False],\n",
              "       [False],\n",
              "       [False],\n",
              "       [False],\n",
              "       [False],\n",
              "       [False],\n",
              "       [ True],\n",
              "       [False],\n",
              "       [False],\n",
              "       [False],\n",
              "       [ True],\n",
              "       [False],\n",
              "       [False],\n",
              "       [False],\n",
              "       [False],\n",
              "       [False],\n",
              "       [False],\n",
              "       [ True],\n",
              "       [False],\n",
              "       [ True],\n",
              "       [ True],\n",
              "       [ True],\n",
              "       [False],\n",
              "       [False],\n",
              "       [False],\n",
              "       [False],\n",
              "       [False],\n",
              "       [ True],\n",
              "       [False],\n",
              "       [ True],\n",
              "       [ True],\n",
              "       [False],\n",
              "       [False],\n",
              "       [False],\n",
              "       [False],\n",
              "       [False],\n",
              "       [False],\n",
              "       [False],\n",
              "       [False],\n",
              "       [False],\n",
              "       [ True],\n",
              "       [False],\n",
              "       [ True],\n",
              "       [False],\n",
              "       [False],\n",
              "       [False],\n",
              "       [False],\n",
              "       [False],\n",
              "       [False],\n",
              "       [False],\n",
              "       [False],\n",
              "       [False],\n",
              "       [False],\n",
              "       [False],\n",
              "       [False],\n",
              "       [ True],\n",
              "       [ True],\n",
              "       [False],\n",
              "       [False],\n",
              "       [False],\n",
              "       [False],\n",
              "       [False],\n",
              "       [ True],\n",
              "       [False],\n",
              "       [False],\n",
              "       [False],\n",
              "       [False],\n",
              "       [ True],\n",
              "       [False],\n",
              "       [False],\n",
              "       [False],\n",
              "       [False],\n",
              "       [False],\n",
              "       [False],\n",
              "       [ True],\n",
              "       [False],\n",
              "       [False],\n",
              "       [False],\n",
              "       [False],\n",
              "       [False],\n",
              "       [False],\n",
              "       [False],\n",
              "       [ True],\n",
              "       [False],\n",
              "       [ True],\n",
              "       [False],\n",
              "       [False],\n",
              "       [False],\n",
              "       [False],\n",
              "       [ True],\n",
              "       [ True],\n",
              "       [False],\n",
              "       [ True],\n",
              "       [False],\n",
              "       [ True],\n",
              "       [ True],\n",
              "       [False],\n",
              "       [ True],\n",
              "       [False],\n",
              "       [False],\n",
              "       [False],\n",
              "       [ True],\n",
              "       [False],\n",
              "       [False],\n",
              "       [ True],\n",
              "       [False],\n",
              "       [False],\n",
              "       [ True],\n",
              "       [ True],\n",
              "       [ True],\n",
              "       [False],\n",
              "       [False],\n",
              "       [False],\n",
              "       [False],\n",
              "       [ True],\n",
              "       [ True],\n",
              "       [False],\n",
              "       [ True],\n",
              "       [ True],\n",
              "       [False],\n",
              "       [False],\n",
              "       [False],\n",
              "       [False],\n",
              "       [False],\n",
              "       [False],\n",
              "       [False],\n",
              "       [False],\n",
              "       [ True],\n",
              "       [False],\n",
              "       [False],\n",
              "       [False],\n",
              "       [False],\n",
              "       [False],\n",
              "       [False],\n",
              "       [ True],\n",
              "       [False],\n",
              "       [False],\n",
              "       [False],\n",
              "       [ True],\n",
              "       [False],\n",
              "       [ True],\n",
              "       [False],\n",
              "       [ True],\n",
              "       [False],\n",
              "       [False],\n",
              "       [False],\n",
              "       [False],\n",
              "       [False],\n",
              "       [False],\n",
              "       [False],\n",
              "       [False],\n",
              "       [False],\n",
              "       [False],\n",
              "       [False],\n",
              "       [False],\n",
              "       [False],\n",
              "       [False],\n",
              "       [ True],\n",
              "       [ True],\n",
              "       [False],\n",
              "       [False],\n",
              "       [False],\n",
              "       [False],\n",
              "       [ True],\n",
              "       [False],\n",
              "       [False],\n",
              "       [False],\n",
              "       [False],\n",
              "       [False],\n",
              "       [False],\n",
              "       [ True],\n",
              "       [False],\n",
              "       [False]])"
            ]
          },
          "metadata": {
            "tags": []
          },
          "execution_count": 74
        }
      ]
    },
    {
      "cell_type": "code",
      "metadata": {
        "id": "jQM-BfZLP7NF"
      },
      "source": [
        "#checking score\n",
        "from sklearn.metrics import accuracy_score\n",
        "score=accuracy_score(y_pred,y_test)"
      ],
      "execution_count": 75,
      "outputs": []
    },
    {
      "cell_type": "code",
      "metadata": {
        "colab": {
          "base_uri": "https://localhost:8080/"
        },
        "id": "OslKkmJUQCGq",
        "outputId": "2514d23b-78e7-4043-cd6d-4db0b2fb75ab"
      },
      "source": [
        "score"
      ],
      "execution_count": 76,
      "outputs": [
        {
          "output_type": "execute_result",
          "data": {
            "text/plain": [
              "0.7709923664122137"
            ]
          },
          "metadata": {
            "tags": []
          },
          "execution_count": 76
        }
      ]
    }
  ]
}